{
 "cells": [
  {
   "cell_type": "code",
   "execution_count": null,
   "metadata": {},
   "outputs": [],
   "source": [
    "#Import pandas library as pd\n",
    "import pandas as pd"
   ]
  },
  {
   "cell_type": "code",
   "execution_count": null,
   "metadata": {},
   "outputs": [],
   "source": [
    "#read the dataset into a dataframe using pandas\n",
    "df = pd.read_csv('./data/Make Model Data 2016.csv', sep=',', header=4)"
   ]
  },
  {
   "cell_type": "code",
   "execution_count": null,
   "metadata": {},
   "outputs": [],
   "source": [
    "#Group By Vehicle Make and calculate the mean for Emmissions.\n",
    "#Sort the values in descending order and select the Top 20 items or records.\n",
    "df_mean = df.groupby('VehicleMake').Emmissions.mean().reset_index().sort_values(by = ['Emmissions'], ascending=False).head(20)\n",
    "\n",
    "df_mean.to_csv('top20_VehicleMakes_With_HighEmmissions.csv')"
   ]
  }
 ],
 "metadata": {
  "kernelspec": {
   "display_name": "Python 3",
   "language": "python",
   "name": "python3"
  },
  "language_info": {
   "codemirror_mode": {
    "name": "ipython",
    "version": 3
   },
   "file_extension": ".py",
   "mimetype": "text/x-python",
   "name": "python",
   "nbconvert_exporter": "python",
   "pygments_lexer": "ipython3",
   "version": "3.7.4"
  }
 },
 "nbformat": 4,
 "nbformat_minor": 2
}
